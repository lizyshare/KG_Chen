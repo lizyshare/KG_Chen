{
 "cells": [
  {
   "cell_type": "code",
   "execution_count": 4,
   "metadata": {},
   "outputs": [],
   "source": [
    "from py2neo import Graph,Node,Relationship\n",
    "import pandas as pd"
   ]
  },
  {
   "cell_type": "code",
   "execution_count": 11,
   "metadata": {},
   "outputs": [],
   "source": [
    "graph = Graph(\"neo4j://localhost:7687\", auth=(\"neo4j\", \"\")) # 注意：这里输入你的neo4j密码\n",
    "# 清除图表\n",
    "# graph.run(\"match (n) detach delete n\")"
   ]
  },
  {
   "cell_type": "code",
   "execution_count": 3,
   "metadata": {},
   "outputs": [],
   "source": [
    "# 获取数据\n",
    "relations = pd.read_csv('song_relations.csv')\n",
    "relations.columns = ['id', 'head', 'relation', 'tail']"
   ]
  },
  {
   "cell_type": "code",
   "execution_count": 4,
   "metadata": {},
   "outputs": [
    {
     "data": {
      "text/html": [
       "<div>\n",
       "<style scoped>\n",
       "    .dataframe tbody tr th:only-of-type {\n",
       "        vertical-align: middle;\n",
       "    }\n",
       "\n",
       "    .dataframe tbody tr th {\n",
       "        vertical-align: top;\n",
       "    }\n",
       "\n",
       "    .dataframe thead th {\n",
       "        text-align: right;\n",
       "    }\n",
       "</style>\n",
       "<table border=\"1\" class=\"dataframe\">\n",
       "  <thead>\n",
       "    <tr style=\"text-align: right;\">\n",
       "      <th></th>\n",
       "      <th>id</th>\n",
       "      <th>head</th>\n",
       "      <th>relation</th>\n",
       "      <th>tail</th>\n",
       "    </tr>\n",
       "  </thead>\n",
       "  <tbody>\n",
       "    <tr>\n",
       "      <th>0</th>\n",
       "      <td>0</td>\n",
       "      <td>是但求其爱</td>\n",
       "      <td>歌手</td>\n",
       "      <td>陈奕迅</td>\n",
       "    </tr>\n",
       "    <tr>\n",
       "      <th>1</th>\n",
       "      <td>1</td>\n",
       "      <td>是但求其爱</td>\n",
       "      <td>作词</td>\n",
       "      <td>小克</td>\n",
       "    </tr>\n",
       "    <tr>\n",
       "      <th>2</th>\n",
       "      <td>2</td>\n",
       "      <td>是但求其爱</td>\n",
       "      <td>作曲</td>\n",
       "      <td>林家谦</td>\n",
       "    </tr>\n",
       "    <tr>\n",
       "      <th>3</th>\n",
       "      <td>3</td>\n",
       "      <td>是但求其爱</td>\n",
       "      <td>专辑</td>\n",
       "      <td>是但求其爱</td>\n",
       "    </tr>\n",
       "    <tr>\n",
       "      <th>4</th>\n",
       "      <td>4</td>\n",
       "      <td>是但求其爱</td>\n",
       "      <td>发行时间</td>\n",
       "      <td>2020-11-20</td>\n",
       "    </tr>\n",
       "    <tr>\n",
       "      <th>...</th>\n",
       "      <td>...</td>\n",
       "      <td>...</td>\n",
       "      <td>...</td>\n",
       "      <td>...</td>\n",
       "    </tr>\n",
       "    <tr>\n",
       "      <th>175</th>\n",
       "      <td>175</td>\n",
       "      <td>寂寞让你更快乐</td>\n",
       "      <td>歌手</td>\n",
       "      <td>陈奕迅</td>\n",
       "    </tr>\n",
       "    <tr>\n",
       "      <th>176</th>\n",
       "      <td>176</td>\n",
       "      <td>寂寞让你更快乐</td>\n",
       "      <td>作词</td>\n",
       "      <td>郭小宏</td>\n",
       "    </tr>\n",
       "    <tr>\n",
       "      <th>177</th>\n",
       "      <td>177</td>\n",
       "      <td>寂寞让你更快乐</td>\n",
       "      <td>作曲</td>\n",
       "      <td>阿飞</td>\n",
       "    </tr>\n",
       "    <tr>\n",
       "      <th>178</th>\n",
       "      <td>178</td>\n",
       "      <td>寂寞让你更快乐</td>\n",
       "      <td>专辑</td>\n",
       "      <td>七</td>\n",
       "    </tr>\n",
       "    <tr>\n",
       "      <th>179</th>\n",
       "      <td>179</td>\n",
       "      <td>寂寞让你更快乐</td>\n",
       "      <td>发行时间</td>\n",
       "      <td>2003年11月18日</td>\n",
       "    </tr>\n",
       "  </tbody>\n",
       "</table>\n",
       "<p>180 rows × 4 columns</p>\n",
       "</div>"
      ],
      "text/plain": [
       "      id     head relation         tail\n",
       "0      0    是但求其爱       歌手          陈奕迅\n",
       "1      1    是但求其爱       作词           小克\n",
       "2      2    是但求其爱       作曲          林家谦\n",
       "3      3    是但求其爱       专辑        是但求其爱\n",
       "4      4    是但求其爱     发行时间   2020-11-20\n",
       "..   ...      ...      ...          ...\n",
       "175  175  寂寞让你更快乐       歌手          陈奕迅\n",
       "176  176  寂寞让你更快乐       作词          郭小宏\n",
       "177  177  寂寞让你更快乐       作曲           阿飞\n",
       "178  178  寂寞让你更快乐       专辑            七\n",
       "179  179  寂寞让你更快乐     发行时间  2003年11月18日\n",
       "\n",
       "[180 rows x 4 columns]"
      ]
     },
     "execution_count": 4,
     "metadata": {},
     "output_type": "execute_result"
    }
   ],
   "source": [
    "relations"
   ]
  },
  {
   "cell_type": "code",
   "execution_count": 5,
   "metadata": {},
   "outputs": [],
   "source": [
    "# 将歌曲、人物、专辑、发行日期作为实体\n",
    "signers = {}\n",
    "songs = {}\n",
    "albums = {}\n",
    "date = {}\n",
    "\n",
    "for _, row in relations.iterrows():\n",
    "    if row['head'] not in songs:\n",
    "            songs[row['head']] = Node(\"歌曲\", name=row['head'])\n",
    "\n",
    "    if row['relation'] == \"歌手\" or row['relation'] == \"作词\" or row['relation'] == \"作曲\":\n",
    "        if row['tail'] not in signers:\n",
    "            signers[row['tail']] = Node(\"人物\", name=row['tail'])\n",
    "    elif row['relation'] == \"专辑\":\n",
    "        if row['tail'] not in albums:\n",
    "            albums[row['tail']] = Node(\"专辑\", name=row['tail'])\n",
    "    elif row['relation'] == \"发行时间\":\n",
    "        if row['tail'] not in date:\n",
    "            date[row['tail']] = Node(\"发行时间\", name=row['tail'])"
   ]
  },
  {
   "cell_type": "code",
   "execution_count": 6,
   "metadata": {},
   "outputs": [
    {
     "data": {
      "text/plain": [
       "{'陈奕迅': Node('人物', name='陈奕迅'),\n",
       " '小克': Node('人物', name='小克'),\n",
       " '林家谦': Node('人物', name='林家谦'),\n",
       " 'Oscar': Node('人物', name='Oscar'),\n",
       " '陈奕迅,蔡依林': Node('人物', name='陈奕迅,蔡依林'),\n",
       " '朱敬然,郭伟亮,陈哲庐': Node('人物', name='朱敬然,郭伟亮,陈哲庐'),\n",
       " '宋秉洋': Node('人物', name='宋秉洋'),\n",
       " '姚若龙': Node('人物', name='姚若龙'),\n",
       " '陈小霞': Node('人物', name='陈小霞'),\n",
       " '卢凯彤': Node('人物', name='卢凯彤'),\n",
       " '孙伟明, 卢凯彤': Node('人物', name='孙伟明, 卢凯彤'),\n",
       " '陈咏谦': Node('人物', name='陈咏谦'),\n",
       " '苏德华': Node('人物', name='苏德华'),\n",
       " '恭硕良': Node('人物', name='恭硕良'),\n",
       " '岑宁儿': Node('人物', name='岑宁儿'),\n",
       " 'Charles Arthur Huntley, Mark James Fortin': Node('人物', name='Charles Arthur Huntley, Mark James Fortin'),\n",
       " '葛大为': Node('人物', name='葛大为'),\n",
       " '陈哲庐': Node('人物', name='陈哲庐'),\n",
       " '易家扬': Node('人物', name='易家扬'),\n",
       " '冯颖琪': Node('人物', name='冯颖琪'),\n",
       " 'Tim Lui, 6号作词': Node('人物', name='Tim Lui, 6号作词'),\n",
       " 'rubber band': Node('人物', name='rubber band'),\n",
       " '徐继宗': Node('人物', name='徐继宗'),\n",
       " '江志仁, 陈哲庐': Node('人物', name='江志仁, 陈哲庐'),\n",
       " '蓝奕邦': Node('人物', name='蓝奕邦'),\n",
       " '田晓鹏': Node('人物', name='田晓鹏'),\n",
       " '窦鹏': Node('人物', name='窦鹏'),\n",
       " 'Stephen Mok': Node('人物', name='Stephen Mok'),\n",
       " '黎晓阳, 谢国维': Node('人物', name='黎晓阳, 谢国维'),\n",
       " '潘源良': Node('人物', name='潘源良'),\n",
       " '郭伟亮': Node('人物', name='郭伟亮'),\n",
       " 'Russell Harris': Node('人物', name='Russell Harris'),\n",
       " '曲世聪': Node('人物', name='曲世聪'),\n",
       " '林夕': Node('人物', name='林夕'),\n",
       " '符致逸': Node('人物', name='符致逸'),\n",
       " '陈伟': Node('人物', name='陈伟'),\n",
       " '李焯雄': Node('人物', name='李焯雄'),\n",
       " '林若宁': Node('人物', name='林若宁'),\n",
       " '柳重言': Node('人物', name='柳重言'),\n",
       " '黄伟文': Node('人物', name='黄伟文'),\n",
       " '陈浩然': Node('人物', name='陈浩然'),\n",
       " 'Seth Swirsky': Node('人物', name='Seth Swirsky'),\n",
       " '苏耀宗': Node('人物', name='苏耀宗'),\n",
       " '黄敬佩': Node('人物', name='黄敬佩'),\n",
       " '张佳添': Node('人物', name='张佳添'),\n",
       " 'GIL EUN KYUNG, PARK JUNG WOON': Node('人物', name='GIL EUN KYUNG, PARK JUNG WOON'),\n",
       " '伍卓贤': Node('人物', name='伍卓贤'),\n",
       " '郭小宏': Node('人物', name='郭小宏'),\n",
       " '阿飞': Node('人物', name='阿飞')}"
      ]
     },
     "execution_count": 6,
     "metadata": {},
     "output_type": "execute_result"
    }
   ],
   "source": [
    "signers"
   ]
  },
  {
   "cell_type": "code",
   "execution_count": 7,
   "metadata": {},
   "outputs": [
    {
     "data": {
      "text/plain": [
       "{'是但求其爱': Node('歌曲', name='是但求其爱'),\n",
       " '致明日的舞': Node('歌曲', name='致明日的舞'),\n",
       " 'Fight As One': Node('歌曲', name='Fight As One'),\n",
       " '相信你的人': Node('歌曲', name='相信你的人'),\n",
       " '海里睡人': Node('歌曲', name='海里睡人'),\n",
       " '敬烟': Node('歌曲', name='敬烟'),\n",
       " '疯狂的朋友': Node('歌曲', name='疯狂的朋友'),\n",
       " 'R U N': Node('歌曲', name='R U N'),\n",
       " '与你常在': Node('歌曲', name='与你常在'),\n",
       " '可一可再': Node('歌曲', name='可一可再'),\n",
       " '《收心操》': Node('歌曲', name='《收心操》'),\n",
       " '谁来剪月光': Node('歌曲', name='谁来剪月光'),\n",
       " '床上的黑洞': Node('歌曲', name='床上的黑洞'),\n",
       " '右上角': Node('歌曲', name='右上角'),\n",
       " '《之外》': Node('歌曲', name='《之外》'),\n",
       " '傅科摆': Node('歌曲', name='傅科摆'),\n",
       " '零下几分钟': Node('歌曲', name='零下几分钟'),\n",
       " '《在这个世界相遇》': Node('歌曲', name='《在这个世界相遇》'),\n",
       " 'Sleep Alone': Node('歌曲', name='Sleep Alone'),\n",
       " '陪你度过漫长岁月': Node('歌曲', name='陪你度过漫长岁月'),\n",
       " '恐龙进化论': Node('歌曲', name='恐龙进化论'),\n",
       " '老细我撇先': Node('歌曲', name='老细我撇先'),\n",
       " '人生马拉松': Node('歌曲', name='人生马拉松'),\n",
       " '一切还好': Node('歌曲', name='一切还好'),\n",
       " '不如这样': Node('歌曲', name='不如这样'),\n",
       " '《给你》': Node('歌曲', name='《给你》'),\n",
       " '七百年后': Node('歌曲', name='七百年后'),\n",
       " '忘记歌词': Node('歌曲', name='忘记歌词'),\n",
       " '没有手机的日子': Node('歌曲', name='没有手机的日子'),\n",
       " '《月球上的人》': Node('歌曲', name='《月球上的人》'),\n",
       " '少见不怪': Node('歌曲', name='少见不怪'),\n",
       " '活跃症': Node('歌曲', name='活跃症'),\n",
       " '开不了心': Node('歌曲', name='开不了心'),\n",
       " '寂寞让你更快乐': Node('歌曲', name='寂寞让你更快乐')}"
      ]
     },
     "execution_count": 7,
     "metadata": {},
     "output_type": "execute_result"
    }
   ],
   "source": [
    "songs"
   ]
  },
  {
   "cell_type": "code",
   "execution_count": 8,
   "metadata": {},
   "outputs": [
    {
     "data": {
      "text/plain": [
       "{'是但求其爱': Node('专辑', name='是但求其爱'),\n",
       " 'CHIN UP!': Node('专辑', name='CHIN UP!'),\n",
       " nan: Node('专辑', name=nan),\n",
       " '《银河补习班》（2019年7月5日通过环球唱片发行）': Node('专辑', name='《银河补习班》（2019年7月5日通过环球唱片发行）'),\n",
       " 'L.O.V.E.': Node('专辑', name='L.O.V.E.'),\n",
       " \"C'mon in~\": Node('专辑', name=\"C'mon in~\"),\n",
       " '动画电影《大鱼海棠》主题曲': Node('专辑', name='动画电影《大鱼海棠》主题曲'),\n",
       " '陪安东尼度过漫长岁月 (英文版)': Node('专辑', name='陪安东尼度过漫长岁月 (英文版)'),\n",
       " '陪安东尼度过漫长岁月': Node('专辑', name='陪安东尼度过漫长岁月'),\n",
       " '死开啲啦': Node('专辑', name='死开啲啦'),\n",
       " '准备中': Node('专辑', name='准备中'),\n",
       " 'Great 5000 Secs': Node('专辑', name='Great 5000 Secs'),\n",
       " '反正是我': Node('专辑', name='反正是我'),\n",
       " '《上五楼的快活》': Node('专辑', name='《上五楼的快活》'),\n",
       " 'H3M': Node('专辑', name='H3M'),\n",
       " 'Live For Today': Node('专辑', name='Live For Today'),\n",
       " 'Special Thanks To…': Node('专辑', name='Special Thanks To…'),\n",
       " '《认了吧》': Node('专辑', name='《认了吧》'),\n",
       " '4 A Change & Hits': Node('专辑', name='4 A Change & Hits'),\n",
       " '打得火热': Node('专辑', name='打得火热'),\n",
       " 'Great 5000 Secs Vol.2': Node('专辑', name='Great 5000 Secs Vol.2'),\n",
       " '七': Node('专辑', name='七')}"
      ]
     },
     "execution_count": 8,
     "metadata": {},
     "output_type": "execute_result"
    }
   ],
   "source": [
    "albums"
   ]
  },
  {
   "cell_type": "code",
   "execution_count": 9,
   "metadata": {},
   "outputs": [
    {
     "data": {
      "text/plain": [
       "{'2020-11-20': Node('发行时间', name='2020-11-20'),\n",
       " '2023-10-27': Node('发行时间', name='2023-10-27'),\n",
       " '2020-04-03': Node('发行时间', name='2020-04-03'),\n",
       " '2019-07-05': Node('发行时间', name='2019-07-05'),\n",
       " '2018-12-12': Node('发行时间', name='2018-12-12'),\n",
       " '2018-05-25': Node('发行时间', name='2018-05-25'),\n",
       " '2018-08-24': Node('发行时间', name='2018-08-24'),\n",
       " '2017年10月9日': Node('发行时间', name='2017年10月9日'),\n",
       " '2017-10-09': Node('发行时间', name='2017-10-09'),\n",
       " '2016年6月16日': Node('发行时间', name='2016年6月16日'),\n",
       " '2015年11月10日': Node('发行时间', name='2015年11月10日'),\n",
       " '2015年10月14日': Node('发行时间', name='2015年10月14日'),\n",
       " '2015年9月10日': Node('发行时间', name='2015年9月10日'),\n",
       " '2015年7月13日': Node('发行时间', name='2015年7月13日'),\n",
       " '2005-02-04': Node('发行时间', name='2005-02-04'),\n",
       " '2001年7月17日': Node('发行时间', name='2001年7月17日'),\n",
       " '2009年9月23日': Node('发行时间', name='2009年9月23日'),\n",
       " '2009年03月23日': Node('发行时间', name='2009年03月23日'),\n",
       " '2003年7月22日': Node('发行时间', name='2003年7月22日'),\n",
       " '2002年4月2日': Node('发行时间', name='2002年4月2日'),\n",
       " '2007年4月24日': Node('发行时间', name='2007年4月24日'),\n",
       " '2002年12月5日': Node('发行时间', name='2002年12月5日'),\n",
       " '2000-09-29': Node('发行时间', name='2000-09-29'),\n",
       " '2005年6月22日': Node('发行时间', name='2005年6月22日'),\n",
       " '2003年11月18日': Node('发行时间', name='2003年11月18日')}"
      ]
     },
     "execution_count": 9,
     "metadata": {},
     "output_type": "execute_result"
    }
   ],
   "source": [
    "date"
   ]
  },
  {
   "cell_type": "code",
   "execution_count": null,
   "metadata": {},
   "outputs": [],
   "source": [
    "# 歌手作为歌曲属性\n",
    "for _, row in relations.iterrows():\n",
    "    if row['relation'] == \"歌手\":\n",
    "        songs[row['head']]['歌手'] = row['tail']\n",
    "    # elif row['relation'] == \"专辑\":\n",
    "    #     albums[row['head']]['专辑'] = row['tail']\n",
    "    # elif row['relation'] == \"发行时间\":\n",
    "    #     date[row['head']]['发行时间'] = row['tail']"
   ]
  },
  {
   "cell_type": "code",
   "execution_count": 7,
   "metadata": {},
   "outputs": [],
   "source": [
    "# 进行关系制作\n",
    "for _, row in relations.iterrows():\n",
    "    if row['relation'] == \"歌手\" or row['relation'] == \"作词\" or row['relation'] == \"作曲\":\n",
    "        r = Relationship(songs[row['head']], row['relation'], signers[row['tail']])\n",
    "        # graph.create(r)\n",
    "    elif row['relation'] == \"专辑\":\n",
    "        r = Relationship(songs[row['head']], row['relation'], albums[row['tail']])\n",
    "        # graph.create(r)\n",
    "    elif row['relation'] == \"发行时间\":\n",
    "        r = Relationship(songs[row['head']], row['relation'], date[row['tail']])\n",
    "    graph.create(r)"
   ]
  }
 ],
 "metadata": {
  "kernelspec": {
   "display_name": "hamini",
   "language": "python",
   "name": "python3"
  },
  "language_info": {
   "codemirror_mode": {
    "name": "ipython",
    "version": 3
   },
   "file_extension": ".py",
   "mimetype": "text/x-python",
   "name": "python",
   "nbconvert_exporter": "python",
   "pygments_lexer": "ipython3",
   "version": "3.9.19"
  },
  "orig_nbformat": 4
 },
 "nbformat": 4,
 "nbformat_minor": 2
}
